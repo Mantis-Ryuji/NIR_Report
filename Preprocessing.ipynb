{
 "cells": [
  {
   "cell_type": "code",
   "execution_count": 1,
   "id": "9484f209",
   "metadata": {},
   "outputs": [],
   "source": [
    "import numpy as np\n",
    "import matplotlib.pyplot as plt\n",
    "import seaborn as sns\n",
    "import spectral\n",
    "import spectral.io.envi as envi\n",
    "import cv2"
   ]
  },
  {
   "cell_type": "markdown",
   "id": "ee522432",
   "metadata": {},
   "source": [
    "### 反射率へ変換\n",
    "$R = ((I_{3.0} - D_{3.0}) / 3.0) / ((W_{2.5} - D_{2.5}) / 2.5)$\n",
    "- R : 反射率スペクトル\n",
    "- I : サンプルの反射強度スペクトル\n",
    "- W : ホワイトボードの反射スペクトル\n",
    "- D : Darkデータ（カメラのノイズ）"
   ]
  },
  {
   "cell_type": "code",
   "execution_count": 2,
   "id": "f82a8640",
   "metadata": {},
   "outputs": [],
   "source": [
    "def load(name: str):\n",
    "    dark30_intensity = envi.open(r\"raw_data\\dark.3.hdr\", r\"raw_data\\dark.3.raw\")\n",
    "    dark25_intensity = envi.open(r\"raw_data\\dark.2.5.hdr\", r\"raw_data\\dark.2.5.raw\")\n",
    "    white25_intensity = envi.open(r\"raw_data\\white_2.5.hdr\", r\"raw_data\\white_2.5.raw\")\n",
    "    wood_intensity = envi.open(fr\"raw_data\\{name}.hdr\", fr\"raw_data\\{name}.raw\")\n",
    "\n",
    "    D30 = np.array(dark30_intensity.load())\n",
    "    D25 = np.array(dark25_intensity.load())\n",
    "    W25 = np.array(white25_intensity.load())\n",
    "    I30 = np.array(wood_intensity.load())\n",
    "\n",
    "    wave =wood_intensity.metadata['wavelength']\n",
    "    wave=np.array(wave,dtype=np.float32)\n",
    "\n",
    "    mask = wave < 2200 # 2200 nm 以上をカット.\n",
    "    D30 = D30[:, :, mask]\n",
    "    D25 = D25[:, :, mask]\n",
    "    W25 = W25[:, :, mask]\n",
    "    I30 = I30[:, :, mask]\n",
    "\n",
    "    R = ((I30 - D30)/3.0) / ((W25 - D25)/2.5)\n",
    "    return R"
   ]
  },
  {
   "cell_type": "markdown",
   "id": "e6aaea62",
   "metadata": {},
   "source": [
    "### 複合的なモルフォロジー演算\n",
    "> `cv2.erode`関数と`cv2.dilate`関数を組み合わせることで、さらに高度な処理が可能になります。\n",
    "- Opening: 収縮 → 膨張の順に実行。ノイズ除去や細かい突起物の削除に適しています。\n",
    "- Closing: 膨張 → 収縮の順に実行。小さな穴の埋め立てや輪郭の平滑化に適しています。\n",
    "これらを組み合わせることで、細かなノイズを除去します。"
   ]
  },
  {
   "cell_type": "code",
   "execution_count": 3,
   "id": "e5821d2d",
   "metadata": {},
   "outputs": [],
   "source": [
    "def denoise(data):\n",
    "    H, W, C = data.shape\n",
    "    data_denoised = []\n",
    "    kernel_3x3 = np.ones((3, 3), np.uint8)\n",
    "    \n",
    "    for i in range(C):\n",
    "        band = (data[:, :, i] * 255).astype(np.uint8)\n",
    "        denoised_band = cv2.dilate(cv2.erode(band, kernel_3x3), kernel_3x3)\n",
    "        denoised_band = denoised_band.astype(np.float32) / 255.0\n",
    "        data_denoised.append(denoised_band)\n",
    "    \n",
    "    return np.stack(data_denoised, axis=2)"
   ]
  },
  {
   "cell_type": "markdown",
   "id": "d7469761",
   "metadata": {},
   "source": [
    "### データ取得"
   ]
  },
  {
   "cell_type": "code",
   "execution_count": 4,
   "id": "e3ac7496",
   "metadata": {},
   "outputs": [],
   "source": [
    "def preprocessing(name: str):\n",
    "    data = load(name)\n",
    "    data_denoized = denoise(data)\n",
    "    return data_denoized"
   ]
  },
  {
   "cell_type": "code",
   "execution_count": 5,
   "id": "19ebeccc",
   "metadata": {},
   "outputs": [
    {
     "name": "stderr",
     "output_type": "stream",
     "text": [
      "c:\\Users\\PC_User\\anaconda3\\envs\\new_gpu_env\\Lib\\site-packages\\spectral\\io\\envi.py:187: UserWarning: Parameters with non-lowercase names encountered and converted to lowercase. To retain source file parameter name capitalization, set spectral.settings.envi_support_nonlowercase_params to True.\n",
      "  warnings.warn(msg)\n"
     ]
    }
   ],
   "source": [
    "name_list = ['s1', 's2_2_1', 's2_2_2', 's3', 's4_2_1', 's4_2_2']\n",
    "data_list = []\n",
    "for i in name_list:\n",
    "    data_denoised = preprocessing(i)\n",
    "    data_list.append(data_denoised)"
   ]
  },
  {
   "cell_type": "markdown",
   "id": "5e25468f",
   "metadata": {},
   "source": [
    "### 木材マスクの作成"
   ]
  },
  {
   "cell_type": "code",
   "execution_count": 6,
   "id": "09ddaa5d",
   "metadata": {},
   "outputs": [],
   "source": [
    "from sklearn.decomposition import PCA\n",
    "from sklearn.cluster import KMeans\n",
    "\n",
    "def bgmask(data):\n",
    "    pca = PCA(n_components=1)\n",
    "    km = KMeans(n_clusters=2, random_state=42)\n",
    "    H, W, C = data.shape\n",
    "    data_pca = pca.fit_transform(data.reshape(-1, C))\n",
    "    label = km.fit_predict(data_pca).reshape(H, W)\n",
    "    return label"
   ]
  },
  {
   "cell_type": "code",
   "execution_count": 7,
   "id": "cfe0b895",
   "metadata": {},
   "outputs": [
    {
     "name": "stderr",
     "output_type": "stream",
     "text": [
      "c:\\Users\\PC_User\\anaconda3\\envs\\new_gpu_env\\Lib\\site-packages\\joblib\\externals\\loky\\backend\\context.py:136: UserWarning: Could not find the number of physical cores for the following reason:\n",
      "[WinError 2] 指定されたファイルが見つかりません。\n",
      "Returning the number of logical cores instead. You can silence this warning by setting LOKY_MAX_CPU_COUNT to the number of cores you want to use.\n",
      "  warnings.warn(\n",
      "  File \"c:\\Users\\PC_User\\anaconda3\\envs\\new_gpu_env\\Lib\\site-packages\\joblib\\externals\\loky\\backend\\context.py\", line 257, in _count_physical_cores\n",
      "    cpu_info = subprocess.run(\n",
      "        \"wmic CPU Get NumberOfCores /Format:csv\".split(),\n",
      "        capture_output=True,\n",
      "        text=True,\n",
      "    )\n",
      "  File \"c:\\Users\\PC_User\\anaconda3\\envs\\new_gpu_env\\Lib\\subprocess.py\", line 556, in run\n",
      "    with Popen(*popenargs, **kwargs) as process:\n",
      "         ~~~~~^^^^^^^^^^^^^^^^^^^^^^\n",
      "  File \"c:\\Users\\PC_User\\anaconda3\\envs\\new_gpu_env\\Lib\\subprocess.py\", line 1038, in __init__\n",
      "    self._execute_child(args, executable, preexec_fn, close_fds,\n",
      "    ~~~~~~~~~~~~~~~~~~~^^^^^^^^^^^^^^^^^^^^^^^^^^^^^^^^^^^^^^^^^\n",
      "                        pass_fds, cwd, env,\n",
      "                        ^^^^^^^^^^^^^^^^^^^\n",
      "    ...<5 lines>...\n",
      "                        gid, gids, uid, umask,\n",
      "                        ^^^^^^^^^^^^^^^^^^^^^^\n",
      "                        start_new_session, process_group)\n",
      "                        ^^^^^^^^^^^^^^^^^^^^^^^^^^^^^^^^^\n",
      "  File \"c:\\Users\\PC_User\\anaconda3\\envs\\new_gpu_env\\Lib\\subprocess.py\", line 1550, in _execute_child\n",
      "    hp, ht, pid, tid = _winapi.CreateProcess(executable, args,\n",
      "                       ~~~~~~~~~~~~~~~~~~~~~^^^^^^^^^^^^^^^^^^\n",
      "                             # no special security\n",
      "                             ^^^^^^^^^^^^^^^^^^^^^\n",
      "    ...<4 lines>...\n",
      "                             cwd,\n",
      "                             ^^^^\n",
      "                             startupinfo)\n",
      "                             ^^^^^^^^^^^^\n"
     ]
    },
    {
     "data": {
      "image/png": "[encoded data removed]",
      "text/plain": [
       "<Figure size 1500x700 with 7 Axes>"
      ]
     },
     "metadata": {},
     "output_type": "display_data"
    }
   ],
   "source": [
    "labels = []\n",
    "fig, ax = plt.subplots(1, 6, figsize=(15, 7))\n",
    "ax = ax.flatten()\n",
    "for i, name, data in zip(np.arange(6), name_list, data_list):\n",
    "    label = bgmask(data)\n",
    "    labels.append(label)\n",
    "    im = ax[i].imshow(label, cmap='binary')\n",
    "    ax[i].set_title(fr'{name}')\n",
    "plt.tight_layout(rect=[0, 0, 0.96, 1])\n",
    "cbar = fig.colorbar(im, ax=ax, orientation='vertical', fraction=0.03, pad=0.02)"
   ]
  },
  {
   "cell_type": "markdown",
   "id": "c61e86e8",
   "metadata": {},
   "source": [
    "### SNV処理"
   ]
  },
  {
   "cell_type": "code",
   "execution_count": 8,
   "id": "0dbb1ca9",
   "metadata": {},
   "outputs": [],
   "source": [
    "def snv(data):\n",
    "    mean = data.mean(axis=2, keepdims=True)\n",
    "    std = data.std(axis=2, ddof=1, keepdims=True)\n",
    "    std[std == 0] = 1e-8 # 0 割り回避.\n",
    "    return (data - mean) / std"
   ]
  },
  {
   "cell_type": "code",
   "execution_count": 9,
   "id": "85987132",
   "metadata": {},
   "outputs": [],
   "source": [
    "data_snv_list = []\n",
    "for data in data_list:\n",
    "    data_snv_list.append(snv(data))"
   ]
  },
  {
   "cell_type": "markdown",
   "id": "baacaee5",
   "metadata": {},
   "source": [
    "### 保存"
   ]
  },
  {
   "cell_type": "markdown",
   "id": "1fbeece4",
   "metadata": {},
   "source": [
    "- 波数の保存"
   ]
  },
  {
   "cell_type": "code",
   "execution_count": 10,
   "id": "344369df",
   "metadata": {},
   "outputs": [
    {
     "name": "stderr",
     "output_type": "stream",
     "text": [
      "c:\\Users\\PC_User\\anaconda3\\envs\\new_gpu_env\\Lib\\site-packages\\spectral\\io\\envi.py:187: UserWarning: Parameters with non-lowercase names encountered and converted to lowercase. To retain source file parameter name capitalization, set spectral.settings.envi_support_nonlowercase_params to True.\n",
      "  warnings.warn(msg)\n"
     ]
    }
   ],
   "source": [
    "wood_intensity = envi.open(r\"raw_data\\s1.hdr\", r\"raw_data\\s1.raw\")\n",
    "wave =wood_intensity.metadata['wavelength']\n",
    "wave=np.array(wave,dtype=np.float32)\n",
    "mask = wave < 2200 \n",
    "wave_cut = wave[mask]\n",
    "wavenumber = 10**7 / wave_cut\n",
    "np.save(r'Data_preprocessed\\wavenumber.npy', wavenumber)"
   ]
  },
  {
   "cell_type": "markdown",
   "id": "44b9a002",
   "metadata": {},
   "source": [
    "- 木材マスクとsnv処理したものを保存"
   ]
  },
  {
   "cell_type": "code",
   "execution_count": 11,
   "id": "ab21c23d",
   "metadata": {},
   "outputs": [],
   "source": [
    "for name, bgmask, img in zip(name_list, labels, data_snv_list):\n",
    "    np.save(fr'Data_preprocessed\\{name}_mask.npy', bgmask)\n",
    "    np.save(fr'Data_preprocessed\\{name}.npy', img)"
   ]
  }
 ],
 "metadata": {
  "kernelspec": {
   "display_name": "new_gpu_env",
   "language": "python",
   "name": "python3"
  },
  "language_info": {
   "codemirror_mode": {
    "name": "ipython",
    "version": 3
   },
   "file_extension": ".py",
   "mimetype": "text/x-python",
   "name": "python",
   "nbconvert_exporter": "python",
   "pygments_lexer": "ipython3",
   "version": "3.13.2"
  }
 },
 "nbformat": 4,
 "nbformat_minor": 5
}
